{
 "cells": [
  {
   "cell_type": "code",
   "execution_count": 1,
   "metadata": {},
   "outputs": [],
   "source": [
    "import os\n",
    "from dotenv import load_dotenv\n",
    "from langchain_openai.chat_models import ChatOpenAI\n",
    "from langchain_core.output_parsers import StrOutputParser\n",
    "import tempfile\n",
    "import whisper\n",
    "from pytubefix import YouTube\n",
    "from langchain.prompts import ChatPromptTemplate\n",
    "from langchain_community.document_loaders import TextLoader\n",
    "from langchain.chains import LLMChain\n",
    "from langchain.prompts import PromptTemplate\n"
   ]
  },
  {
   "cell_type": "code",
   "execution_count": 2,
   "metadata": {},
   "outputs": [],
   "source": [
    "api_key= os.getenv(\"OPENAI_API_KEY\")\n",
    "\n",
    "YOUTUBE_VIDEO = \"https://www.youtube.com/watch?v=qSWvn5G1cdg\"\n",
    "\n",
    "model = ChatOpenAI(openai_api_key=api_key, model=\"gpt-4o-mini\")"
   ]
  },
  {
   "cell_type": "code",
   "execution_count": 3,
   "metadata": {},
   "outputs": [],
   "source": [
    "#parser = StrOutputParser()\n",
    "\n",
    "#chain = model | parser\n",
    "#chain.invoke(\"What MLB team won the World Series during the COVID-19 pandemic?\")"
   ]
  },
  {
   "cell_type": "code",
   "execution_count": 5,
   "metadata": {},
   "outputs": [],
   "source": [
    "# Let's do this only if we haven't created the transcription file yet.\n",
    "if not os.path.exists(\"transcription.txt\"):\n",
    "    youtube = YouTube(YOUTUBE_VIDEO)\n",
    "    audio = youtube.streams.filter(only_audio=True).first()\n",
    "\n",
    "    # Let's load the base model. This is not the most accurate\n",
    "    # model but it's fast.\n",
    "    whisper_model = whisper.load_model(\"base\")\n",
    "\n",
    "    with tempfile.TemporaryDirectory() as tmpdir:\n",
    "        file = audio.download(output_path=tmpdir)\n",
    "        transcription = whisper_model.transcribe(file, fp16=False)[\"text\"].strip()\n",
    "\n",
    "        with open(\"transcription.txt\", \"w\") as file:\n",
    "            file.write(transcription)"
   ]
  },
  {
   "cell_type": "code",
   "execution_count": 6,
   "metadata": {},
   "outputs": [
    {
     "data": {
      "text/plain": [
       "\"Good morning, everyone. There we are. Can you hear me? Good morning. The Saw's Board meeting of Nove\""
      ]
     },
     "execution_count": 6,
     "metadata": {},
     "output_type": "execute_result"
    }
   ],
   "source": [
    "with open(\"transcription.txt\") as file:\n",
    "    transcription = file.read()\n",
    "\n",
    "transcription[:100]"
   ]
  },
  {
   "cell_type": "code",
   "execution_count": 7,
   "metadata": {},
   "outputs": [
    {
     "data": {
      "text/plain": [
       "[Document(metadata={'source': 'transcription.txt'}, page_content=\"Good morning, everyone. There we are. Can you hear me? Good morning. The Saw's Board meeting of November 2nd, 2021 is called to order. The San Antonio Water System Board of Trustees will, during the meeting, close the meeting and hold an executive session pursuant to and in accordance with chapter 551 of the Texas Open Meeting's Act. The Board of Trustees may at any time during the meeting close the meeting and hold an executive session for consultation with its attorneys concerning any of the matters to be considered during the meeting pursuant to chapter 551 of the Texas Open Meeting's Act. So before I call for a public comment, I want to welcome our newest Board of Trustees member, Miss Mary Lorraine, so welcome. Okay, next we have our third and final briefing item number C, Tracy. Hello, good morning again. If you'll indulge me, I just wanted to give a brief intro to Tracy because we're doing this one a little bit different. Normally we bring a USA to you for approval. But we've heard you loud and clear that as there are utility service agreements that are a little bit different or that have some concerns, some environmental concerns, you want that opportunity to hear it first to provide some input to ask some questions before you're put on the spot to make a decision. So that's what we're doing here today with this track with Walla Horde. The issues with this track, Tracy is going to go into specifics, but we are still in the midst of negotiating this utility service agreement with the developer. We are getting close just in terms of at least on the water side what that infrastructure is going to look like. But before we bring this forward, before we start reaching out to other stakeholders, including the environmental groups, we wanted to bring this to you all first, get your input, and then we can determine how we move forward. So Tracy is going to give you the background. Thank you for that introduction. So yes, I would like to provide a briefing on what the Lotte Ranch track is a development located on the west side of our service area or northwest of our service area. It actually we zoomed into our layer map there so that you can see in a little more detail. It's located near Babcock and scenic loop road just west of IH 10 there on the northwest side. It does fall within the contributing zone indicated by the hash marks. The 10 bubbles there that is the city of San Antonio, ETJ so it does fall well within the ETJ and the blue area is our existing water CCN. However, as you can see where the green lines are, are the green shading that is our wastewater CCN. So this track does fall well outside of our wastewater CCN in this area. All right. And so looking at the track, the developer has come to us asking us for service. They're looking at the about 1160 acre track and they're requesting 3000 water EDU for this track. Well, there are improvements including a 16 inch water main that will be impact eligible. That's not why we're bringing it to you for your concern. Your opinions and concerns that we can look at. And so the wastewater EDU is the concern. They are asking for zero water wastewater EDU. They're asking to build their own wastewater treatment plant in this location. Again, this is within our water CCN outside of our wastewater CCN. But within the city of San Antonio, ETJ. And so shown here on the screen, the green shading is our existing wastewater CCN. So you can see it's quite a ways from our existing infrastructure shown there in the as the green lines. In addition, we've added another item, the shaded purple areas, which has been a concern in the past. Those are existing city parks with conservation easements in this area. So as you can see, there's been a lot of efforts for conservation taking place in this area and they are between our existing system and this track. And so obviously any time a developer comes to us and asks for wastewater treatment plant, our knee jerk response is no way. And let's look at the other options. So this is what we have done with this as we've been working with this developer and engineer over the last six months or so. And so looking at the sewer options for this track, there's multiple new lift stations in order to serve this track because the contours it drains different directions. So there'd be three new lift stations there. Gravity sewer main is always the best option in our opinion whenever we first start out, right? So mechanical components or anything. So we've that's always our go to answer. And then of course the developers requested is for the wastewater treatment plant and then septic systems. Those are always an option. Whenever we look at these so looking at those four options concerns. For these tracks, the multiple new lift stations again because of the contours and way it drains it would ultimately take three different lift stations in order to serve this track. So in fully with wastewater service. And so there would be two onsite and then one would be the regional discharge that would extend a wastewater and forks main or wastewater forks main over two scenic loop. And then it would roughly fall along Babcock road into our existing infrastructure. And so we're looking at about three miles of forks main. Again, this is over the contributing zone. It will about two miles of gravity main will need to be installed. You can see it goes well into our existing infrastructure. We have to go to a larger main within our system that has existing capacity to handle these additional EDU. So there is a extension and replacement of that. Looking at this alignment, this would be all at the developer's cost. If we go this route, it would be easement acquisitions. There's roughly 20 properties that they would need to be getting easements from along that route. And again, big concern is not just one lift station, but three lift stations added over the contributing zone in order to serve these EDUs. And with lift stations, you have the mechanical components, right? Those potentials for failure. And we just talked about the freeze and what we're doing to prepare for that as we move forward in the future. And so those are mechanical components. They require electricity. And so those, that is the concern there as we look at that. And then of course, lift stations have a shorter lifespan than if we were to install the gravity sewer main, right? Because they are mechanical creatures every, roughly every 20 years or so we should be doing a full replacement of a lift station. So it is a concern as we looked at that option. And then gravity sewer main again, that's usually our go to answer. No mechanical components to it. The problem we're seeing here is that it is because of those contours in order to go fully gravity. We'd have to have two separate outfalls for enough a main outfall as we extend it. We're looking at about nine miles of wastewater main to be installed in order to get to a sewer gravity main that has capacity in this area. And so generally we follow the lows, right? Along the creeks. And so as we do that, this construction of this nine miles of wastewater main will be through both developed and undeveloped areas. And so they both create problems, right? And the undeveloped areas we are messing with the pristine nature that is there. But whenever you get to the developed areas, we've got existing infrastructure in the ground. We've got people's driveways and other components like that that we will interfere in. This is nine miles and it's about 83 new easements that will need to be acquired as we go through this. And so that is quite a number, maybe not as maybe normal for nine miles, but it's still a lot of easements to be acquired. And so from Sal's master planning perspective, I think we would do a miservice to our community if we did not participate with the developer and upsized this gravity main, right? As we, if we don't provide additional capacity in this, we miss an opportunity to, as we build the main up that nine miles, people that are existing and close to that on septic, they could tie into this infrastructure. So we missed that opportunity if we didn't oversize. But on the flip side, oversizing can also be looked at as a negative because then you're opening up the area for additional growth. So that is the concern as we look at this. So it's both positive and negative as we look at oversizing. And so that potential for growth there. And especially in the undeveloped areas, right? We've got a lot of harsh and habitat concerns in this area. This is over the contributing zone. So that is a big concern there as we move forward with this option if we were to go that way. And so the other aspect, which we've heard very vocally from you is the conservation easements are concern. This is high level planning where we just go along the creeks. And so we haven't done the end depth design or we haven't worked with the developers. That would ultimately be his engineers responsibility to look at that alignment. But as we look at it generally, we'd be getting close to at least three of these conservation easements, if not autumn, major one there on purple is the scenic loop. Park there, where the two lines fork from the single feed is a Medea park and then later down at Lisa park. So those are three conservation easements that we know would most likely be impacted as we move forward and look at this option. And of course, if we do these are a number of easements 83 that is hard to get approved. And if we are oversizing, we would have to discuss whether we would want to move forward with condemnation if that is an option. If needed, hopefully it's never needed, but we all know it occasionally is. And looking at option three, which is the developer's preferred option is an onsite wastewater treatment plan. If we go with that route, this will be owned and maintained by the developer. This will not be a sauce wastewater treatment plant that is not the intention. It will be his. It will be zero discharge to the existing. Saw system in this area. And so with this, if we were to approve the USA with this as an option, we would not be approving a package treatment plant. We would still have the right to protest the package treatment plant permit of. We're not saying that we wouldn't, but with this, they will need a T.C. Q discharge permit in order to build that wastewater treatment plant. And so we looked at what if we were to go this route, what would considerations could we do? There are tighter restrictions building in the contributing zone. There are separate standards within the zero to five miles of the recharge zone that they would have to comply with. But in addition to that, we looked at what stricter standards could we put on if we were to go this route. And so one of those is advanced nutrient removal. And so that is a method we want to go forward with in the future because it removes more of the phosphorus and nitrates from the system. And of course, that allows for algae blooms if we don't remove those significantly. So we could have algae blooms in the downstream. And so that is concern. We are looking at that as a stricter standard. And then looking at the discharge point, we have a seat at the table to discuss that with them. Ideally, we would get it as much upstream on their property as possible so that any concerns would impact them. And not just at the edge of their property, they're dumping the flow off. Most likely this will not be 100% land application. This will have to be discharged with this capacity from this development. And another standard that we would require if we were to move forward with this is that they would be only limited to this track. The 1160 acres that they could serve with this treatment plant. That would be part of our stipulation. They could not look at expanding the area over as a their friend developer comes in. Or if they want to buy additional property, our stipulation in the USA would be that it would be restricted to use only on this track. And so there is, while the TCQ approves a discharge permit, they also in order to serve the individual customers and charge fees, they have to get a CCN for this, which is what we have. We don't have the CCN for the wastewater, we do have it for the water. So they would have to apply for that. And through that PUC process, public utilities commission process, COSA must consent to that. So there is a, where they would have to go to the city of San Antonio and ask for consent for that CCN. And so again, developer owned and maintained. So, sauce will be out of the picture on this. So we would be ensuring that they do that. And one thing we've always had concerns with on wastewater package treatment plants is long term maintenance. So, where sauce is going to be in 20 years whenever the operator walks away and the repairs get too extensive, are we going to be building that gravity sewer main that we elected not to build first time by allowing this. So that's always been a concern. And that has been our experience in the past. That has been a while since that has happened. That is a concern, but looking at this right, we package treatment plants have come a long way in the last 20 years. They end with this right flow that they would need. They would roughly, this is about a half an MGD, half a million gallons per day, average daily flow to 600,000 gallons per day. So this is a little bit larger package plant. This isn't something that they would have to just they can hire somebody to run and like we've seen in the past with the smaller package plants. They hire somebody that doesn't really know they train them up and you run it for the next 20 years, right. They would have to look at some type of contract with a provider. One example is central states water resources. They're actually looking at taking over the Leon Springs package treatment plant right now. So these are not just your some hire somebody and train them. We're looking at official companies that do this as a business now. So that's a big change from in the past and with that. And of course, TCKU has changed also stricter requirements on them. So more inspections and as a Saul staff can test too as a lot more reporting to his DCQ for standards. So it is a concern and has been on the long term maintenance, but with these tighter standards and developments, it may be possible. And so one question is we were looking at it. Well, are there any other treatment plants? And so we were surprised to be honest with you. At least my group was there's about 15 existing treatment plants that drain towards the Edwards aquifer in this drainage area. You can see the Watson Lote ranch track there where it is Leon Springs right there south of the Dominion. That's existing. Everything in the green shaded area is actually within the Edwards aquifer contributing zone. But those up in Kendall County while they are not within the contributing zone, that area does naturally drain towards the recharge zone. And drainage and contributing zone. So there are quite a few. I think Leon Springs is the largest that roughly get up there close to three MGD. There are some smaller ones on average, maybe half an MGD, which is the 500 to 600,000 gallons per day are for these treatment plants just in this area. So a lot more development as far as treatment package plants than we expected as we looked at that. Although you can see within our service area, we've pretty much kept those out of the Bear County in a lot of my co-mail in Kendall County. So with our expanding our gravity system, we've been able to avoid those. And so the last option we looked at is septic system. So the developer right now, his current land plan shows about 400 of the 3000 sites to be septic. My assumption is that's kind of getting some starting money to build that develop those 400 lots. And then he would build a package treatment plant and develop the remainder 24 hundred E.D. use. I mean, 2600 E.D. use, excuse me. But if we just looked at it, it'd be 1160 acres by current cold, right? Bear County requires half an acre for septic system. So they could get roughly 2000 septic tanks on this site without solves approval on that that would go through Bear County. Of course, that would reduce some of their impervious cover area or not their area, but their green space areas. So that is a concern. And the developer has not offered this up. This is just doing some general analysis on this. And so with that, those are the four options we've looked at. We wanted to bring it to you as Miss Beamer said, get some inquiries on you. We haven't reached out to the environmental community. We wanted to get your input first and make you aware of the situation and get some initial thoughts from you all before we reach out to them. And if you have additional questions that we need to relate to them, we wanted to make sure we included those when we did reach out to them. And ultimately, once we obtain that information, do the review, come back to you. We could return for board consideration as early as next month. But again, it depends on what additional information you would like to see before consideration. Thank you, Tracy. Thank you. Board questions? Yes. Trustee Hardburger? Well, as predicted, with the last one, more of these will become cropping up. So I'm glad that we're doing it in this way. And as you mentioned, Tracy, there's a lot involved in this and a lot of impacts that are, I think, far bigger than anything to do with saws when we're building over the contributing zone. So I guess my question is, do you know what if any city council review would be required for something like this? I mean, I think this is a perfect example of, I don't think saws is the appropriate gatekeeper to be talking about. You know, we can talk about what the best wisdom is, but there's a much bigger question here about building many houses. What's the impervious cover situation? What's the, you know, is this a good idea as a part of our master plan? So do you know what the flow of information? What if anything goes through the elected officials of the city before it comes to us? So it will go through the permitting process through the city of San Antonio. Obviously, this is within the ETJ, so they would be doing that aspect. I don't know if that, I don't think that necessarily goes to the city council. But they would need consent if they were to try to obtain the CCN certificate of convenience and necessity in order to serve the individual developers or customers and charge them. So in order for that, again, the city of San Antonio council does have to provide consent on that PUC, the Public Utilities Commission will be looking for that as part of that process. And the most of the timing of that, you know, you said at the end that this could come up to us as quickly as, you know, next month. Does that usually, do we usually not look at it until it's gone through whatever those additional processes are or can they be done in parallel? So typically, Solz is actually one of the first stops, right? If there's not water sewer there, there's not going to be ability to develop. I don't think we've mentioned the track to the city with our, in our planning meetings with them. We've been joint meeting every two months with them. So they are aware of this and have been brought made aware of this track and what the proposal is. But as far as any formal submittals through that process, I don't think there has been. I'm not aware of any. And I think that that timing just reiterates this issue that keeps coming up, which is, oh, without our approval, you know, it can't go forward. And I think that's putting the cart before the horse in terms of it essentially does make us the gatekeeper to this. And it's like, well, we already have water and wastewater. So we can go forward now. And again, you know, I don't know mayor if you have thoughts on this, but. It's a perfect example of, and they're just going to keep coming. I mean, when you look at this map and you look at how it's location, the conservation easements, the fact that there's, it's not developed around that. And we can all guess what's going to happen. You know, that will all get filled in. And so what does that look like with that many E.D. use over the contributing zone and near delicate, harsh features. I definitely want to hear what the other. You know, constituents that you guys are going to be reaching out to have 11 update. As soon as we hear their thoughts, because I think this is one that we're going to have to take in a lot of stakeholders. Yeah. Sure. Well, first of all, I'm glad that we're here and not a month from now, not having this conversation. So that's the step in the right direction. I will say the thing that keeps coming up is what are we doing with the growth management plan and policy documents of the city. There is movement on that as you are well aware that process was well underway starting in 2019. We're rolling into it in 2020 and then everything paused during the pandemic. That's restarted now. They've re-engaged the stakeholder groups as well as saws in that process. And I believe we're scheduled. This doesn't help with this case, but we are scheduled to come to the council. Or the staff is by the middle somewhere in the middle of 22 and then formal adoption. I would expect by the fall of a new policy document to help guide these decisions. In the meantime, you know, I think we have to use our best judgment on these cases, which I think is a little bit difficult if we also don't know the water delivery plan. I would ask that once we have a little bit more clarity on the water side of the house, we can engage council, engage the city in discussions on that. So we get a better understanding of what they're intent as I mean, it feels like we're picking from four less than desirable options with some being much less desirable than others. But, you know, keeping that in mind, this is at some point down the line going to be developed. You know, the urgency of it seems to indicate that we have a little bit of time to be thoughtful on which direction we go. So again, grateful that we're being a little bit more deliberative before we come to a vote here. And I think as we can continue engage the developer and get more clarity on what they're doing with regard to the water side and what the development looks like that will give us a little bit more information to engage the city with. So while we have looked at the water and that's the component. There is a backup slide. I don't know if you can provide that one. But we have looked at the water system and what would need to be extended in order to serve this track. And that 16 inch water main there shown in purple along Bavcock and scenic loop that would ultimately be extended. That is impact the eligible main that would be extended looping our system in that area. And then they would provide another 16 inch loop into their track and through their track up to our existing system. Because of the size, again, this one will be actually served by two different pressures zones also. So that 16 inch along scenic loop in Bavcock road is one system. And then there is an existing pump station. Well, actually, I apologize. A pump station that's currently under design to the northern port of the track. And a small portion of that will be served by that. And so we're actually that's in design review right now for that pump station. And this would just be an extension off of that higher pressure zone there to serve that track. So we have looked at water. And again, this is in our water CCN. So we didn't need to provide them what would be required for water. So they are currently acceptable to the water improvements that we are required. Trusty Hardburger. I just want to echo what the mayor said about. And I'm certainly, you know, I'm cognizant that I don't want to make this, you know, this developer sort of an example. But when you look at that area and this level of development in that area of San Antonio, this really is our opportunity to get this one right. I think we're going to see a huge increase of development up there. And it has much bigger impacts to the city at large than if you saw that level of development to the south just because of the geology. So, you know, I think as we start to really see the city explode into that sort of northern reach over the contributing zone. I just, you know, I do want, and this is maybe even beyond my saws hat. I want the city and us to be a lockstep and figure out both our role, but also, you know, other things, other ways that we can construct it. Because this once we let something this big out, I think we're creating a pattern. So we need to be very aware in that particular area how we're doing that. I don't think that was done as well as it could have been in the 281-1604 area. So I'd like to see it done better now that we know more. Understood? Trustee Potter? So I drive this road quite often. And there's a lot of development that really happening. And, you know, ideally we can figure out something that we go along and, you know, could do all of the environmental checkmarks that we would like to have. I would say that I don't think that not being in the table is a good solution. I think we need to be in the table. And I appreciate the heads up. And the way I see it, you know, we have 30 days to come up with something good. Or I don't know how long we're going to punt this out or we can. And I will strongly consider, you know, working closely with the people. And I can consider, you know, working closely with the city of San Antonio to understand what our options, best options are. Of course, we do other community groups that need to be involved. But yeah, this is one that if we get right, then then a lot of good things can happen along the area and vice versa. So thank you. Thank you. Any other trusty comments? Okay. Thank you very much. Thank you, Tracy.\")]"
      ]
     },
     "execution_count": 7,
     "metadata": {},
     "output_type": "execute_result"
    }
   ],
   "source": [
    "loader = TextLoader(\"transcription.txt\")\n",
    "text_documents = loader.load()\n",
    "text_documents"
   ]
  },
  {
   "cell_type": "code",
   "execution_count": 11,
   "metadata": {},
   "outputs": [],
   "source": [
    "extra_terms=\"Lotte\"\n",
    "prompt_template=\"\"\"Summarize the following text: {transcription}.  Please also call out any reference to {extra_terms}.\"\"\"\n",
    "llm=model\n",
    "prompt=PromptTemplate(template=prompt_template, input_variables=[\"transcription\", \"extra_terms\"])\n",
    "\n",
    "#summary_chain = LLMChain(llm=model, prompt=\"Summarize the following text: {input_text}\")\n",
    "summary_chain = LLMChain(prompt=prompt, llm=llm)\n",
    "\n",
    "output=summary_chain.invoke({'transcription': transcription, 'extra_terms': extra_terms})\n"
   ]
  },
  {
   "cell_type": "code",
   "execution_count": 12,
   "metadata": {},
   "outputs": [
    {
     "name": "stdout",
     "output_type": "stream",
     "text": [
      "Summary: During the San Antonio Water System Board meeting on November 2, 2021, the Board discussed the Lotte Ranch track development, located in the northwest service area. The developer is seeking utility service for a 1,160-acre site, requesting 3,000 water equivalent dwelling units (EDUs) while proposing to build its own wastewater treatment plant, which raised environmental concerns. The site is within the city's extraterritorial jurisdiction (ETJ) but outside the existing wastewater service area.\n",
      "\n",
      "Tracy presented various options for wastewater service, including constructing multiple lift stations, a gravity sewer main, or the developer's preferred option of an onsite wastewater treatment plant. Each option posed challenges, particularly regarding environmental impacts and the need for easements. The Board emphasized the importance of careful consideration given the area's delicate ecosystem and existing conservation easements.\n",
      "\n",
      "Trustees raised concerns about the implications of rapid development in the contributing zone and the need for collaboration with city officials and environmental stakeholders. They highlighted the necessity of developing a robust growth management plan to guide future decisions, acknowledging that this development could set a precedent for similar projects. The Board aims to gather additional input before moving forward with the developer's proposal and will reassess in the coming month.\n"
     ]
    }
   ],
   "source": [
    "if 'text' in output:\n",
    "    summary_text = output['text']\n",
    "    print(\"Summary:\", summary_text)\n",
    "\n",
    "    # Specify the path where the summary should be saved\n",
    "    summary_file_path = 'summary_output.txt'"
   ]
  },
  {
   "cell_type": "code",
   "execution_count": null,
   "metadata": {},
   "outputs": [
    {
     "name": "stdout",
     "output_type": "stream",
     "text": [
      "Summary has been written to summary_output.txt.\n"
     ]
    }
   ],
   "source": [
    "with open(summary_file_path, 'w', encoding='utf-8') as summary_file:\n",
    "    summary_file.write(summary_text)\n",
    "    print(f\"Summary has been written to {summary_file_path}.\")\n",
    "    "
   ]
  }
 ],
 "metadata": {
  "kernelspec": {
   "display_name": "textcrawler",
   "language": "python",
   "name": "python3"
  },
  "language_info": {
   "codemirror_mode": {
    "name": "ipython",
    "version": 3
   },
   "file_extension": ".py",
   "mimetype": "text/x-python",
   "name": "python",
   "nbconvert_exporter": "python",
   "pygments_lexer": "ipython3",
   "version": "3.12.1"
  }
 },
 "nbformat": 4,
 "nbformat_minor": 2
}
